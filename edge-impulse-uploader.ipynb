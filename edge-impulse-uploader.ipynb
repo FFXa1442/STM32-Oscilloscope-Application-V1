{
 "cells": [
  {
   "cell_type": "code",
   "execution_count": 8,
   "metadata": {},
   "outputs": [],
   "source": [
    "import edgeimpulse as ei\n",
    "import os"
   ]
  },
  {
   "cell_type": "code",
   "execution_count": null,
   "metadata": {},
   "outputs": [],
   "source": []
  },
  {
   "cell_type": "code",
   "execution_count": 9,
   "metadata": {},
   "outputs": [],
   "source": [
    "ei.API_KEY = 'ei_20c6687fd2ce00b3bc5996514a988e9307b5e2ba0a9c52d762ed7df976017fb1'\n",
    "directory = r'edge-impulse-public-raw'"
   ]
  },
  {
   "cell_type": "code",
   "execution_count": 10,
   "metadata": {},
   "outputs": [
    {
     "name": "stderr",
     "output_type": "stream",
     "text": [
      "WARNING:urllib3.connectionpool:Connection pool is full, discarding connection: ingestion.edgeimpulse.com. Connection pool size: 20\n",
      "WARNING:urllib3.connectionpool:Connection pool is full, discarding connection: ingestion.edgeimpulse.com. Connection pool size: 20\n",
      "WARNING:urllib3.connectionpool:Connection pool is full, discarding connection: ingestion.edgeimpulse.com. Connection pool size: 20\n",
      "WARNING:urllib3.connectionpool:Connection pool is full, discarding connection: ingestion.edgeimpulse.com. Connection pool size: 20\n",
      "WARNING:urllib3.connectionpool:Connection pool is full, discarding connection: ingestion.edgeimpulse.com. Connection pool size: 20\n",
      "WARNING:urllib3.connectionpool:Connection pool is full, discarding connection: ingestion.edgeimpulse.com. Connection pool size: 20\n",
      "WARNING:urllib3.connectionpool:Connection pool is full, discarding connection: ingestion.edgeimpulse.com. Connection pool size: 20\n",
      "WARNING:urllib3.connectionpool:Connection pool is full, discarding connection: ingestion.edgeimpulse.com. Connection pool size: 20\n"
     ]
    }
   ],
   "source": [
    "response = ei.experimental.data.upload_directory(\n",
    "    directory=directory,\n",
    ")\n"
   ]
  }
 ],
 "metadata": {
  "kernelspec": {
   "display_name": ".venv",
   "language": "python",
   "name": "python3"
  },
  "language_info": {
   "codemirror_mode": {
    "name": "ipython",
    "version": 3
   },
   "file_extension": ".py",
   "mimetype": "text/x-python",
   "name": "python",
   "nbconvert_exporter": "python",
   "pygments_lexer": "ipython3",
   "version": "3.12.9"
  }
 },
 "nbformat": 4,
 "nbformat_minor": 2
}
