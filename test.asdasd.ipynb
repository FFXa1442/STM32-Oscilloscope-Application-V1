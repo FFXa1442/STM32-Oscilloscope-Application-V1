{
 "cells": [
  {
   "cell_type": "code",
   "execution_count": 1,
   "id": "6bcca864",
   "metadata": {},
   "outputs": [
    {
     "name": "stdout",
     "output_type": "stream",
     "text": [
      "All plots have been saved to the 'plot_outputs' directory.\n"
     ]
    }
   ],
   "source": [
    "import os\n",
    "import matplotlib.pyplot as plt\n",
    "import numpy as np\n",
    "import pandas as pd\n",
    "import time\n",
    "\n",
    "SAMPLE_SIZE = 5000            # 採樣點數\n",
    "ADC_CLOCK = 20_000_000  # ADC時鐘頻率\n",
    "SAMPLE_RATE = ADC_CLOCK / 20   # 採樣率\n",
    "OBJECT_NAME = '100kHz'\n",
    "# RANGE = int(SAMPLE_RATE / 2)               # 頻域顯示範圍\n",
    "RANGE = 1000               # 頻域顯示範圍\n",
    "\n",
    "\n",
    "dir_ = 'captured_data'\n",
    "output_dir = 'plot_outputs'\n",
    "\n",
    "# Create output directory if it doesn't exist\n",
    "if not os.path.exists(output_dir):\n",
    "    os.makedirs(output_dir)\n",
    "\n",
    "time_x = np.linspace(0, SAMPLE_SIZE/SAMPLE_RATE, SAMPLE_SIZE)\n",
    "freq_x = np.fft.rfftfreq(SAMPLE_SIZE, 1/SAMPLE_RATE)[:RANGE]\n",
    "\n",
    "for f in os.listdir(dir_):\n",
    "    if not f.endswith('.csv'):\n",
    "        continue\n",
    "        \n",
    "    file = os.path.join(dir_, f)\n",
    "    data = pd.read_csv(file).to_numpy() * 3.3 / 4095\n",
    "    data = data - np.median(data)  # Remove DC offset\n",
    "    \n",
    "    plt.figure(figsize=(12, 6))\n",
    "    \n",
    "    # Time domain plot\n",
    "    plt.subplot(2, 1, 1)\n",
    "    plt.plot(time_x * 1000, data, 'b-')  # Convert to ms for better readability\n",
    "    plt.title(f'Time Domain - {f}')\n",
    "    plt.xlabel('Time (ms)')\n",
    "    plt.ylabel('Voltage (V)')\n",
    "    plt.grid(True)\n",
    "    \n",
    "    # Frequency domain plot (FFT)\n",
    "    plt.subplot(2, 1, 2)\n",
    "    fft_data = np.abs(np.fft.rfft(data.flatten())[:RANGE])\n",
    "    plt.plot(freq_x / 1000, fft_data, 'r-')  # Convert to kHz for better readability\n",
    "    plt.title(f'Frequency Domain - {f}')\n",
    "    plt.xlabel('Frequency (kHz)')\n",
    "    plt.ylabel('Magnitude')\n",
    "    plt.grid(True)\n",
    "    \n",
    "    plt.tight_layout()\n",
    "    \n",
    "    # Save to JPG file\n",
    "    output_filename = os.path.join(output_dir, f.replace('.csv', '.jpg'))\n",
    "    plt.savefig(output_filename, dpi=300, bbox_inches='tight')\n",
    "    \n",
    "    # Display the plot (optional, comment out if not needed)\n",
    "    # plt.show()\n",
    "    plt.close()\n",
    "\n",
    "    time.sleep(0.001)  # Optional: to avoid overwhelming the system with too many plots at once\n",
    "    \n",
    "print(f\"All plots have been saved to the '{output_dir}' directory.\")"
   ]
  }
 ],
 "metadata": {
  "kernelspec": {
   "display_name": ".venv",
   "language": "python",
   "name": "python3"
  },
  "language_info": {
   "codemirror_mode": {
    "name": "ipython",
    "version": 3
   },
   "file_extension": ".py",
   "mimetype": "text/x-python",
   "name": "python",
   "nbconvert_exporter": "python",
   "pygments_lexer": "ipython3",
   "version": "3.12.9"
  }
 },
 "nbformat": 4,
 "nbformat_minor": 5
}
