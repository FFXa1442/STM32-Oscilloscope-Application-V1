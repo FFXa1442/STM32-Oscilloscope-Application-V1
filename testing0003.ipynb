{
 "cells": [
  {
   "cell_type": "code",
   "execution_count": 10,
   "id": "5acf71c8",
   "metadata": {},
   "outputs": [
    {
     "name": "stdout",
     "output_type": "stream",
     "text": [
      "找到 4 種可行組合：\n",
      "  PSC=    0, ARR=   14 → Freq=10000000.0000 Hz (誤差 0.0000e+00 Hz)\n",
      "  PSC=    2, ARR=    4 → Freq=10000000.0000 Hz (誤差 0.0000e+00 Hz)\n",
      "  PSC=    4, ARR=    2 → Freq=10000000.0000 Hz (誤差 0.0000e+00 Hz)\n",
      "  PSC=   14, ARR=    0 → Freq=10000000.0000 Hz (誤差 0.0000e+00 Hz)\n"
     ]
    }
   ],
   "source": [
    "def find_timer_settings(apb_clk, target_freq,\n",
    "                        max_prescaler=65535,\n",
    "                        max_period=65535,\n",
    "                        rel_tol=1e-6):\n",
    "    \"\"\"\n",
    "    找出所有滿足\n",
    "        Freq = apb_clk / ((PSC+1)*(ARR+1))\n",
    "    的 PSC, ARR 組合，使得計算頻率與目標頻率誤差在相對容差 rel_tol 以內。\n",
    "\n",
    "    參數:\n",
    "      apb_clk      -- APB 時鐘頻率 (Hz)\n",
    "      target_freq  -- 期望的定時器輸出頻率 (Hz)\n",
    "      max_prescaler-- PSC 最大值 (預設 65535)\n",
    "      max_period   -- ARR 最大值 (預設 65535)\n",
    "      rel_tol      -- 相對誤差容差 (預設 1e-6)\n",
    "\n",
    "    回傳:\n",
    "      一個列表，元素為 (PSC, ARR, achieved_freq, error)\n",
    "    \"\"\"\n",
    "    results = []\n",
    "    for psc in range(max_prescaler + 1):\n",
    "        # 由公式反推 ARR + 1\n",
    "        arr_f = apb_clk / ((psc + 1) * target_freq) - 1\n",
    "        if not (0 <= arr_f <= max_period):\n",
    "            continue\n",
    "\n",
    "        # 四捨五入到最近整數\n",
    "        arr = int(round(arr_f))\n",
    "        if not (0 <= arr <= max_period):\n",
    "            continue\n",
    "\n",
    "        # 計算實際頻率及誤差\n",
    "        freq = apb_clk / ((psc + 1) * (arr + 1))\n",
    "        err = abs(freq - target_freq)\n",
    "        if err / target_freq <= rel_tol:\n",
    "            results.append((psc, arr, freq, err))\n",
    "\n",
    "    return results\n",
    "\n",
    "if __name__ == \"__main__\":\n",
    "    APB_CLK    = 150_000_000\n",
    "    TARGET_HZ  = 10_000_000\n",
    "    solutions = find_timer_settings(APB_CLK, TARGET_HZ)\n",
    "\n",
    "    print(f\"找到 {len(solutions)} 種可行組合：\")\n",
    "    for psc, arr, freq, err in solutions:\n",
    "        print(f\"  PSC={psc:5d}, ARR={arr:5d} → Freq={freq:10.4f} Hz (誤差 {err:.4e} Hz)\")\n"
   ]
  }
 ],
 "metadata": {
  "kernelspec": {
   "display_name": ".venv",
   "language": "python",
   "name": "python3"
  },
  "language_info": {
   "codemirror_mode": {
    "name": "ipython",
    "version": 3
   },
   "file_extension": ".py",
   "mimetype": "text/x-python",
   "name": "python",
   "nbconvert_exporter": "python",
   "pygments_lexer": "ipython3",
   "version": "3.12.9"
  }
 },
 "nbformat": 4,
 "nbformat_minor": 5
}
