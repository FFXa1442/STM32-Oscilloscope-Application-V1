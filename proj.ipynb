{
 "cells": [
  {
   "cell_type": "code",
   "execution_count": 1,
   "id": "1e5573b9",
   "metadata": {},
   "outputs": [],
   "source": [
    "import numpy as np\n",
    "import h5py\n",
    "import matplotlib.pyplot as plt\n",
    "import pandas as pd"
   ]
  },
  {
   "cell_type": "code",
   "execution_count": 2,
   "id": "cb70847d",
   "metadata": {},
   "outputs": [],
   "source": [
    "dst = 'edge-impulse-public-raw'\n",
    "src = 'datasets/data_raw.hdf5'\n",
    "\n",
    "sampling_len = 589623\n",
    "fs = int(1.2e6)  # Sampling frequency\n",
    "t = np.linspace(0, sampling_len / fs, sampling_len)"
   ]
  },
  {
   "cell_type": "code",
   "execution_count": 3,
   "id": "fde78029",
   "metadata": {},
   "outputs": [],
   "source": [
    "import os\n",
    "\n",
    "if not os.path.exists(dst):\n",
    "    os.makedirs(dst)"
   ]
  },
  {
   "cell_type": "code",
   "execution_count": 4,
   "id": "bbb3d1b2",
   "metadata": {},
   "outputs": [
    {
     "name": "stdout",
     "output_type": "stream",
     "text": [
      "Processing Cone/Q10\n",
      "Processing Cone/Q20\n",
      "Processing Cone/Q30\n",
      "Processing Cone/Q40\n",
      "Processing Cross/Q10\n",
      "Processing Cross/Q20\n",
      "Processing Cross/Q30\n",
      "Processing Cross/Q40\n",
      "Processing Empty/Q10\n",
      "Processing Empty/Q20\n",
      "Processing Empty/Q30\n",
      "Processing Empty/Q40\n",
      "Processing Holes/Q10\n",
      "Processing Holes/Q20\n",
      "Processing Holes/Q30\n",
      "Processing Holes/Q40\n",
      "Processing Semicircle/Q10\n",
      "Processing Semicircle/Q20\n",
      "Processing Semicircle/Q30\n",
      "Processing Semicircle/Q40\n"
     ]
    }
   ],
   "source": [
    "data_map = {}\n",
    "\n",
    "class AtomicCounter:\n",
    "    def __init__(self, start=0):\n",
    "        self.value = start\n",
    "\n",
    "    def increment(self):\n",
    "        self.value += 1\n",
    "        return self.value - 1\n",
    "\n",
    "atomic_counter = AtomicCounter()\n",
    "\n",
    "with h5py.File(src, 'r') as f:\n",
    "    \n",
    "    for d in f:\n",
    "        \n",
    "        t = f[d]\n",
    "        \n",
    "        for r in t:\n",
    "            \n",
    "            print(f'Processing {d}/{r}')\n",
    "            \n",
    "            if r not in ['Q40']:\n",
    "                continue\n",
    "            \n",
    "            \n",
    "            for seq in np.array(f[d][r]):\n",
    "                max_val = np.max(np.abs(seq[~np.isinf(seq) & ~np.isnan(seq)]))\n",
    "                data = np.nan_to_num(seq, nan=0.0, posinf=max_val, neginf=-max_val)\n",
    "                data = data / np.max(np.abs(data), axis=0)\n",
    "                \n",
    "                pd.DataFrame({ 'signal': data }).to_csv(f'{dst}/{d}.{atomic_counter.increment():04x}.csv', index=False)\n",
    "                "
   ]
  }
 ],
 "metadata": {
  "kernelspec": {
   "display_name": ".venv",
   "language": "python",
   "name": "python3"
  },
  "language_info": {
   "codemirror_mode": {
    "name": "ipython",
    "version": 3
   },
   "file_extension": ".py",
   "mimetype": "text/x-python",
   "name": "python",
   "nbconvert_exporter": "python",
   "pygments_lexer": "ipython3",
   "version": "3.12.9"
  }
 },
 "nbformat": 4,
 "nbformat_minor": 5
}
